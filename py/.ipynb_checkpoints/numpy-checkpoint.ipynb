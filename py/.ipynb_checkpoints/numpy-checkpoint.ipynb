{
 "cells": [
  {
   "cell_type": "code",
   "execution_count": 3,
   "id": "219d111b-9a20-4e26-9ddf-0176558a796a",
   "metadata": {},
   "outputs": [],
   "source": [
    "import numpy as np"
   ]
  },
  {
   "cell_type": "code",
   "execution_count": 11,
   "id": "14b21c7f-a059-4707-b1c6-864e54c669d6",
   "metadata": {},
   "outputs": [
    {
     "name": "stdout",
     "output_type": "stream",
     "text": [
      "[1 2 3]\n"
     ]
    }
   ],
   "source": [
    "#rank 1 array\n",
    "arr = np.array([1,2,3])\n",
    "print(arr)"
   ]
  },
  {
   "cell_type": "code",
   "execution_count": 13,
   "id": "8e749c83-32ca-4d41-8a06-3e5cc6174ab4",
   "metadata": {},
   "outputs": [
    {
     "name": "stdout",
     "output_type": "stream",
     "text": [
      "[[1 2 3]\n",
      " [4 5 6]]\n"
     ]
    }
   ],
   "source": [
    "#rank 2 array\n",
    "arr2 = np.array([[1,2,3],[4,5,6]])\n",
    "print(arr2)"
   ]
  },
  {
   "cell_type": "code",
   "execution_count": 14,
   "id": "da76c001-688b-44e4-95b9-5fddd9abc0c5",
   "metadata": {},
   "outputs": [
    {
     "name": "stdout",
     "output_type": "stream",
     "text": [
      "[1 2 3]\n"
     ]
    }
   ],
   "source": [
    "#array using tuple\n",
    "arr3 = np.array((1,2,3))\n",
    "print(arr3)"
   ]
  },
  {
   "cell_type": "code",
   "execution_count": 15,
   "id": "2eb55c99-24a7-4fbb-9106-a5eda80587cc",
   "metadata": {},
   "outputs": [],
   "source": [
    "#indexing"
   ]
  },
  {
   "cell_type": "code",
   "execution_count": 18,
   "id": "a464db4c-17e8-4fa9-90c3-04587553a7d0",
   "metadata": {},
   "outputs": [
    {
     "name": "stdout",
     "output_type": "stream",
     "text": [
      "initial array: \n",
      " [[-1.   2.   0.   4. ]\n",
      " [ 4.  -0.5  6.   0. ]\n",
      " [ 2.6  0.   7.   8. ]\n",
      " [ 3.  -7.   4.   2. ]]\n"
     ]
    }
   ],
   "source": [
    "arr = np.array([[-1, 2, 0, 4],[4, -0.5, 6, 0],[2.6, 0, 7, 8],[3, -7, 4, 2.0]])\n",
    "print(\"initial array: \\n\",arr)"
   ]
  },
  {
   "cell_type": "code",
   "execution_count": 21,
   "id": "502eb798-d1f8-4422-b8af-01546c7595d9",
   "metadata": {},
   "outputs": [
    {
     "name": "stdout",
     "output_type": "stream",
     "text": [
      "first 2 rows, alternate element\n",
      " [[-1.  0.]\n",
      " [ 4.  6.]]\n"
     ]
    }
   ],
   "source": [
    "slicedarr=arr[:2,::2]\n",
    "print(\"first 2 rows, alternate element\\n\",slicedarr)"
   ]
  },
  {
   "cell_type": "code",
   "execution_count": null,
   "id": "4a7c4f10-9b47-4483-96c5-efe8eaa05b07",
   "metadata": {},
   "outputs": [],
   "source": [
    "index_arr = arr[[1,1,0,3],[3,2,1,0]]\n"
   ]
  },
  {
   "cell_type": "code",
   "execution_count": null,
   "id": "124895d0-8660-449e-9281-3dd8c63851a7",
   "metadata": {},
   "outputs": [],
   "source": []
  }
 ],
 "metadata": {
  "kernelspec": {
   "display_name": "Python 3 (ipykernel)",
   "language": "python",
   "name": "python3"
  },
  "language_info": {
   "codemirror_mode": {
    "name": "ipython",
    "version": 3
   },
   "file_extension": ".py",
   "mimetype": "text/x-python",
   "name": "python",
   "nbconvert_exporter": "python",
   "pygments_lexer": "ipython3",
   "version": "3.11.7"
  }
 },
 "nbformat": 4,
 "nbformat_minor": 5
}
