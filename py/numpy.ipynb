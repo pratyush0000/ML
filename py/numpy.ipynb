{
 "cells": [
  {
   "cell_type": "code",
   "execution_count": 3,
   "id": "219d111b-9a20-4e26-9ddf-0176558a796a",
   "metadata": {},
   "outputs": [],
   "source": [
    "import numpy as np"
   ]
  },
  {
   "cell_type": "code",
   "execution_count": 11,
   "id": "14b21c7f-a059-4707-b1c6-864e54c669d6",
   "metadata": {},
   "outputs": [
    {
     "name": "stdout",
     "output_type": "stream",
     "text": [
      "[1 2 3]\n"
     ]
    }
   ],
   "source": [
    "#rank 1 array\n",
    "arr = np.array([1,2,3])\n",
    "print(arr)"
   ]
  },
  {
   "cell_type": "code",
   "execution_count": 13,
   "id": "8e749c83-32ca-4d41-8a06-3e5cc6174ab4",
   "metadata": {},
   "outputs": [
    {
     "name": "stdout",
     "output_type": "stream",
     "text": [
      "[[1 2 3]\n",
      " [4 5 6]]\n"
     ]
    }
   ],
   "source": [
    "#rank 2 array\n",
    "arr2 = np.array([[1,2,3],[4,5,6]])\n",
    "print(arr2)"
   ]
  },
  {
   "cell_type": "code",
   "execution_count": 14,
   "id": "da76c001-688b-44e4-95b9-5fddd9abc0c5",
   "metadata": {},
   "outputs": [
    {
     "name": "stdout",
     "output_type": "stream",
     "text": [
      "[1 2 3]\n"
     ]
    }
   ],
   "source": [
    "#array using tuple\n",
    "arr3 = np.array((1,2,3))\n",
    "print(arr3)"
   ]
  },
  {
   "cell_type": "code",
   "execution_count": 15,
   "id": "2eb55c99-24a7-4fbb-9106-a5eda80587cc",
   "metadata": {},
   "outputs": [],
   "source": [
    "#indexing"
   ]
  },
  {
   "cell_type": "code",
   "execution_count": 18,
   "id": "a464db4c-17e8-4fa9-90c3-04587553a7d0",
   "metadata": {},
   "outputs": [
    {
     "name": "stdout",
     "output_type": "stream",
     "text": [
      "initial array: \n",
      " [[-1.   2.   0.   4. ]\n",
      " [ 4.  -0.5  6.   0. ]\n",
      " [ 2.6  0.   7.   8. ]\n",
      " [ 3.  -7.   4.   2. ]]\n"
     ]
    }
   ],
   "source": [
    "arr = np.array([[-1, 2, 0, 4],[4, -0.5, 6, 0],[2.6, 0, 7, 8],[3, -7, 4, 2.0]])\n",
    "print(\"initial array: \\n\",arr)"
   ]
  },
  {
   "cell_type": "code",
   "execution_count": 21,
   "id": "502eb798-d1f8-4422-b8af-01546c7595d9",
   "metadata": {},
   "outputs": [
    {
     "name": "stdout",
     "output_type": "stream",
     "text": [
      "first 2 rows, alternate element\n",
      " [[-1.  0.]\n",
      " [ 4.  6.]]\n"
     ]
    }
   ],
   "source": [
    "slicedarr=arr[:2,::2]\n",
    "print(\"first 2 rows, alternate element\\n\",slicedarr)"
   ]
  },
  {
   "cell_type": "code",
   "execution_count": 23,
   "id": "4a7c4f10-9b47-4483-96c5-efe8eaa05b07",
   "metadata": {},
   "outputs": [
    {
     "name": "stdout",
     "output_type": "stream",
     "text": [
      "specefic indexes\n",
      " \n",
      "(1,3),(1,2),(0,1),(3,0)\n",
      "\n",
      "[0. 6. 2. 3.]\n"
     ]
    }
   ],
   "source": [
    "index_arr = arr[[1,1,0,3],[3,2,1,0]]\n",
    "print(\"specefic indexes\\n \")\n",
    "print(\"(1,3),(1,2),(0,1),(3,0)\\n\")\n",
    "print(index_arr)"
   ]
  },
  {
   "cell_type": "code",
   "execution_count": 35,
   "id": "124895d0-8660-449e-9281-3dd8c63851a7",
   "metadata": {},
   "outputs": [],
   "source": [
    "# Defining Array 1\n",
    "a = np.array([[1, 2],\n",
    "              [3, 4]])\n",
    " \n",
    "# Defining Array 2\n",
    "b = np.array([[4, 3],\n",
    "              [2, 1]])"
   ]
  },
  {
   "cell_type": "code",
   "execution_count": 38,
   "id": "f769df76-7083-4a0f-848c-3e48b9005456",
   "metadata": {},
   "outputs": [
    {
     "name": "stdout",
     "output_type": "stream",
     "text": [
      "Adding 1 to every element\n",
      " [[2 3]\n",
      " [4 5]]\n"
     ]
    }
   ],
   "source": [
    "print (\"Adding 1 to every element\\n\", a + 1)"
   ]
  },
  {
   "cell_type": "code",
   "execution_count": 39,
   "id": "c3ac9e5b-71f0-4bd5-84cb-dd5a5dc2a87c",
   "metadata": {},
   "outputs": [
    {
     "name": "stdout",
     "output_type": "stream",
     "text": [
      "\n",
      "Subtracting 2 from each element\n",
      " [[ 2  1]\n",
      " [ 0 -1]]\n"
     ]
    }
   ],
   "source": [
    "print (\"\\nSubtracting 2 from each element\\n\", b - 2)"
   ]
  },
  {
   "cell_type": "code",
   "execution_count": 41,
   "id": "0ac4cc30-4561-41a1-ab74-cbd9e1c8ec2b",
   "metadata": {},
   "outputs": [
    {
     "name": "stdout",
     "output_type": "stream",
     "text": [
      "\n",
      "Sum of all array elements:  10\n"
     ]
    }
   ],
   "source": [
    "print (\"\\nSum of all array elements: \", a.sum())"
   ]
  },
  {
   "cell_type": "code",
   "execution_count": null,
   "id": "668a2914-348a-4853-80e4-d736dc8343b5",
   "metadata": {},
   "outputs": [],
   "source": []
  },
  {
   "cell_type": "code",
   "execution_count": 42,
   "id": "4bd035cd-ada4-42b0-82d8-cb325e6028ed",
   "metadata": {},
   "outputs": [],
   "source": [
    "#random and slicing"
   ]
  },
  {
   "cell_type": "code",
   "execution_count": 36,
   "id": "4a25961d-f183-47b9-90b4-4f4937fa755e",
   "metadata": {},
   "outputs": [],
   "source": [
    "arr2 = np.random.randint(1,100,(5,6))"
   ]
  },
  {
   "cell_type": "code",
   "execution_count": 25,
   "id": "4935fdff-8717-410a-8c6f-2ca074df9d57",
   "metadata": {},
   "outputs": [
    {
     "data": {
      "text/plain": [
       "array([[88, 48, 35, 64, 88, 68],\n",
       "       [97, 11, 40, 16, 38, 55],\n",
       "       [46, 95, 96, 95, 26, 43],\n",
       "       [27, 97, 19, 99, 13, 57],\n",
       "       [82, 47, 10, 71, 67,  2]])"
      ]
     },
     "execution_count": 25,
     "metadata": {},
     "output_type": "execute_result"
    }
   ],
   "source": [
    "arr2"
   ]
  },
  {
   "cell_type": "code",
   "execution_count": 26,
   "id": "ed9ddc8c-a9a3-46b1-894f-7a330082fb8e",
   "metadata": {},
   "outputs": [
    {
     "data": {
      "text/plain": [
       "array([[96, 95],\n",
       "       [19, 99]])"
      ]
     },
     "execution_count": 26,
     "metadata": {},
     "output_type": "execute_result"
    }
   ],
   "source": [
    "arr2[2:4,2:4]"
   ]
  },
  {
   "cell_type": "code",
   "execution_count": 27,
   "id": "c250f9ae-519c-46a5-8fe4-27a794bc27c7",
   "metadata": {},
   "outputs": [
    {
     "data": {
      "text/plain": [
       "array([[88, 48, 35, 64, 88, 68],\n",
       "       [97, 11, 40, 16, 38, 55],\n",
       "       [46, 95, 96, 95, 26, 43],\n",
       "       [27, 97, 19, 99, 13, 57]])"
      ]
     },
     "execution_count": 27,
     "metadata": {},
     "output_type": "execute_result"
    }
   ],
   "source": [
    "arr2[:-1]"
   ]
  },
  {
   "cell_type": "code",
   "execution_count": 31,
   "id": "56d00b94-ced4-44d6-93a6-f2399170196c",
   "metadata": {},
   "outputs": [
    {
     "data": {
      "text/plain": [
       "array([[88, 48, 35, 64, 88],\n",
       "       [97, 11, 40, 16, 38],\n",
       "       [46, 95, 96, 95, 26],\n",
       "       [27, 97, 19, 99, 13],\n",
       "       [82, 47, 10, 71, 67]])"
      ]
     },
     "execution_count": 31,
     "metadata": {},
     "output_type": "execute_result"
    }
   ],
   "source": [
    "arr2[:,0:5]"
   ]
  },
  {
   "cell_type": "code",
   "execution_count": null,
   "id": "6a2d5aac-4141-4c89-b3c4-daf21c0ceee4",
   "metadata": {},
   "outputs": [],
   "source": []
  },
  {
   "cell_type": "code",
   "execution_count": 43,
   "id": "d70add3e-f767-470a-af04-fc221028bd40",
   "metadata": {},
   "outputs": [
    {
     "name": "stdout",
     "output_type": "stream",
     "text": [
      "Integer Datatype: \n",
      "int32\n"
     ]
    }
   ],
   "source": [
    "x = np.array([1, 2])  \n",
    "print(\"Integer Datatype: \")\n",
    "print(x.dtype)  "
   ]
  },
  {
   "cell_type": "code",
   "execution_count": 44,
   "id": "1276b97a-5b84-40b6-90ca-4c7c4cc43dd6",
   "metadata": {},
   "outputs": [
    {
     "name": "stdout",
     "output_type": "stream",
     "text": [
      "\n",
      "Float Datatype: \n",
      "float64\n"
     ]
    }
   ],
   "source": [
    "x = np.array([1.0, 2.0]) \n",
    "print(\"\\nFloat Datatype: \")\n",
    "print(x.dtype) "
   ]
  },
  {
   "cell_type": "code",
   "execution_count": 46,
   "id": "32ce9d29-fbe7-4933-9daa-0d35729c06da",
   "metadata": {},
   "outputs": [
    {
     "name": "stdout",
     "output_type": "stream",
     "text": [
      "\n",
      "Forcing a Datatype: \n",
      "int64\n"
     ]
    }
   ],
   "source": [
    "x = np.array([1, 2], dtype = np.int64)   \n",
    "print(\"\\nForcing a Datatype: \")\n",
    "print(x.dtype)"
   ]
  },
  {
   "cell_type": "code",
   "execution_count": 49,
   "id": "a62107c5-08db-48da-8901-070f224cb77a",
   "metadata": {},
   "outputs": [
    {
     "name": "stdout",
     "output_type": "stream",
     "text": [
      "\n",
      "Forcing a Datatype: \n",
      "float64\n"
     ]
    }
   ],
   "source": [
    "x = np.array([1, 2], dtype = np.float64)   \n",
    "print(\"\\nForcing a Datatype: \")\n",
    "print(x.dtype)"
   ]
  },
  {
   "cell_type": "code",
   "execution_count": null,
   "id": "edc47268-d1ce-4ede-a185-913ada7891de",
   "metadata": {},
   "outputs": [],
   "source": []
  },
  {
   "cell_type": "code",
   "execution_count": null,
   "id": "9d3d93f1-7dea-484f-a950-2781e254afdd",
   "metadata": {},
   "outputs": [],
   "source": []
  },
  {
   "cell_type": "code",
   "execution_count": null,
   "id": "4ce0fec5-f7d6-416b-ab9c-8a91b6449f7c",
   "metadata": {},
   "outputs": [],
   "source": []
  },
  {
   "cell_type": "code",
   "execution_count": 56,
   "id": "45504cd1-6a6c-42ac-a6b9-ee2b9c50c430",
   "metadata": {},
   "outputs": [],
   "source": [
    "# First Array\n",
    "arr1 = np.array([[4, 7], [2, 6]], \n",
    "                 dtype = np.int64)\n",
    "                  \n",
    "# Second Array\n",
    "arr2 = np.array([[3, 6], [2, 8]], \n",
    "                 dtype = np.int64) "
   ]
  },
  {
   "cell_type": "code",
   "execution_count": 57,
   "id": "4d3abab7-1147-4e95-80fc-3c658d335c16",
   "metadata": {},
   "outputs": [
    {
     "name": "stdout",
     "output_type": "stream",
     "text": [
      "Addition of 2 arr\n",
      "  [[ 7 13]\n",
      " [ 4 14]]\n"
     ]
    }
   ],
   "source": [
    "sum = np.add(arr1,arr2)\n",
    "print(\"Addition of 2 arr\\n \",sum)"
   ]
  },
  {
   "cell_type": "code",
   "execution_count": 59,
   "id": "9b8d3064-0a77-4d3c-a1bc-0517c8acce98",
   "metadata": {},
   "outputs": [
    {
     "name": "stdout",
     "output_type": "stream",
     "text": [
      "sum of elements of arr1:  19\n",
      "sum of elements of both:  38\n"
     ]
    }
   ],
   "source": [
    "sumof1 = np.sum(arr1)\n",
    "sumofboth = np.sum(sum)\n",
    "print(\"sum of elements of arr1: \",sumof1)\n",
    "#print(\"\\n\")\n",
    "print(\"sum of elements of both: \",sumofboth)"
   ]
  },
  {
   "cell_type": "code",
   "execution_count": 60,
   "id": "35e8db4a-0b93-444a-86ff-1041b9440f62",
   "metadata": {},
   "outputs": [
    {
     "name": "stdout",
     "output_type": "stream",
     "text": [
      "\n",
      "Square root of Array1 elements: \n",
      "[[2.         2.64575131]\n",
      " [1.41421356 2.44948974]]\n"
     ]
    }
   ],
   "source": [
    "Sqrt = np.sqrt(arr1)\n",
    "print(\"\\nSquare root of Array1 elements: \")\n",
    "print(Sqrt)"
   ]
  },
  {
   "cell_type": "code",
   "execution_count": 61,
   "id": "0a3da4fb-aa8d-46c0-8341-9873bded0d7d",
   "metadata": {},
   "outputs": [
    {
     "name": "stdout",
     "output_type": "stream",
     "text": [
      "\n",
      "Array: \n",
      "[[4 7]\n",
      " [2 6]]\n",
      "\n",
      "Transpose of Array: \n",
      "[[4 2]\n",
      " [7 6]]\n"
     ]
    }
   ],
   "source": [
    "Trans_arr = arr1.T\n",
    "print(\"\\nArray: \")\n",
    "print(arr1)\n",
    "print(\"\\nTranspose of Array: \")\n",
    "print(Trans_arr)"
   ]
  },
  {
   "cell_type": "code",
   "execution_count": 62,
   "id": "138d21c5-1055-420c-9920-54426a853177",
   "metadata": {},
   "outputs": [
    {
     "name": "stdout",
     "output_type": "stream",
     "text": [
      "Array is of type:  <class 'numpy.ndarray'>\n",
      "No. of dimensions:  2\n",
      "Shape of array:  (2, 3)\n",
      "Size of array:  6\n",
      "Array stores elements of type:  int32\n"
     ]
    }
   ],
   "source": [
    "# Creating array object\n",
    "arr = np.array( [[ 1, 2, 3],\n",
    "                 [ 4, 2, 5]] )\n",
    " \n",
    "# Printing type of arr object\n",
    "print(\"Array is of type: \", type(arr))\n",
    " \n",
    "# Printing array dimensions (axes)\n",
    "print(\"No. of dimensions: \", arr.ndim)\n",
    " \n",
    "# Printing shape of array\n",
    "print(\"Shape of array: \", arr.shape)\n",
    " \n",
    "# Printing size (total number of elements) of array\n",
    "print(\"Size of array: \", arr.size)\n",
    " \n",
    "# Printing type of elements in array\n",
    "print(\"Array stores elements of type: \", arr.dtype)"
   ]
  },
  {
   "cell_type": "code",
   "execution_count": 64,
   "id": "cb8b25bc-2073-4772-91d4-de0c331964bb",
   "metadata": {},
   "outputs": [
    {
     "name": "stdout",
     "output_type": "stream",
     "text": [
      "('John', [6., 7.])\n",
      "Grades of John are:  [6. 7.]\n",
      "Names are:  ['Sarah' 'John']\n"
     ]
    }
   ],
   "source": [
    "# Python program to demonstrate \n",
    "# the use of data type object with structured array.\n",
    "import numpy as np\n",
    " \n",
    "dt = np.dtype([('name', np.unicode_, 16), ('grades', np.float64, (2,))])\n",
    " \n",
    "# x is a structured array with names and marks of students.\n",
    "# Data type of name of the student is np.unicode_ and \n",
    "# data type of marks is np.float(64)\n",
    "x = np.array([('Sarah', (8.0, 7.0)), ('John', (6.0, 7.0))], dtype=dt)\n",
    " \n",
    "print(x[1])\n",
    "print(\"Grades of John are: \",x[1]['grades'])\n",
    "print(\"Names are: \",x['name'])"
   ]
  },
  {
   "cell_type": "code",
   "execution_count": 70,
   "id": "12b34f82-8503-4d51-b2eb-f268825058af",
   "metadata": {},
   "outputs": [
    {
     "name": "stdout",
     "output_type": "stream",
     "text": [
      "[array([[0., 1., 2.],\n",
      "       [3., 4., 5.],\n",
      "       [6., 7., 8.]])]\n"
     ]
    }
   ],
   "source": [
    "import numpy as geek \n",
    "  \n",
    "arr = geek.arange(9.0).reshape(3, 3) \n",
    "  \n",
    "gfg = geek.vsplit(arr, 1) \n",
    "  \n",
    "print (gfg) "
   ]
  },
  {
   "cell_type": "code",
   "execution_count": null,
   "id": "8facefdf-13c4-45be-853c-68c433fdf766",
   "metadata": {},
   "outputs": [],
   "source": []
  }
 ],
 "metadata": {
  "kernelspec": {
   "display_name": "Python 3 (ipykernel)",
   "language": "python",
   "name": "python3"
  },
  "language_info": {
   "codemirror_mode": {
    "name": "ipython",
    "version": 3
   },
   "file_extension": ".py",
   "mimetype": "text/x-python",
   "name": "python",
   "nbconvert_exporter": "python",
   "pygments_lexer": "ipython3",
   "version": "3.11.7"
  }
 },
 "nbformat": 4,
 "nbformat_minor": 5
}
